{
 "cells": [
  {
   "cell_type": "markdown",
   "metadata": {},
   "source": [
    "# RecursionError: maximum recursion depth exceeded 解决方案"
   ]
  },
  {
   "cell_type": "markdown",
   "metadata": {},
   "source": [
    "执行 pyinstaller，会生成 filename.spec 文件："
   ]
  },
  {
   "cell_type": "markdown",
   "metadata": {},
   "source": [
    "pyinstaller -F filename.py"
   ]
  },
  {
   "cell_type": "markdown",
   "metadata": {},
   "source": [
    "执行 pyinstaller，会生成 filename.spec 文件："
   ]
  },
  {
   "cell_type": "markdown",
   "metadata": {},
   "source": [
    "import sys   \n",
    "sys.setrecursionlimit(5000)"
   ]
  },
  {
   "cell_type": "markdown",
   "metadata": {},
   "source": [
    "再次执行 pyinstaller 和 .spec文件"
   ]
  },
  {
   "cell_type": "markdown",
   "metadata": {},
   "source": [
    "pyinstaller filename.spec"
   ]
  },
  {
   "cell_type": "markdown",
   "metadata": {},
   "source": [
    "# Pyinstaller 打包出现 UnicodeDecodeError: ‘utf-8‘ codec can‘t decode byte 0xce in position 解决方案"
   ]
  },
  {
   "cell_type": "markdown",
   "metadata": {},
   "source": [
    "在你打包的命令行中先输入"
   ]
  },
  {
   "cell_type": "markdown",
   "metadata": {},
   "source": [
    "chcp 65001 "
   ]
  },
  {
   "cell_type": "markdown",
   "metadata": {},
   "source": [
    "然后再输入打包命令：\n",
    "pyinstaller -F xxx.py"
   ]
  },
  {
   "cell_type": "markdown",
   "metadata": {},
   "source": [
    "## winmanifest.py下读取文件编码格式的问题   \n",
    "   \n",
    "解：按错误代码的最后一个文件地址(winmanifest.py)，在1075加一个'rb'。"
   ]
  }
 ],
 "metadata": {
  "kernelspec": {
   "display_name": "Python 3",
   "language": "python",
   "name": "python3"
  },
  "language_info": {
   "codemirror_mode": {
    "name": "ipython",
    "version": 3
   },
   "file_extension": ".py",
   "mimetype": "text/x-python",
   "name": "python",
   "nbconvert_exporter": "python",
   "pygments_lexer": "ipython3",
   "version": "3.6.8"
  }
 },
 "nbformat": 4,
 "nbformat_minor": 4
}
